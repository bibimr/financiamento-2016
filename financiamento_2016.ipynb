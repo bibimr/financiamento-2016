{
 "cells": [
  {
   "cell_type": "code",
   "execution_count": null,
   "metadata": {
    "collapsed": true
   },
   "outputs": [],
   "source": [
    "estado = 'ac'\n",
    "candidato = 'Antonio Barbosa de Sousa'\n",
    "dindin = '10'\n",
    "\n",
    "# Importação de todas as bibliotecas que vão ser utilizadas\n",
    "import csv\n",
    "import collections\n",
    "import requests\n",
    "\n",
    "# Definição de variáveis e listas que serão usadas\n",
    "valor = collections.Counter()\n",
    "verificacao_candidato = []\n",
    "doadores = []\n",
    "estado = estado.upper()\n",
    "arquivo_csv = f'receitas_candidatos_2016_{estado}.csv' # Define qual arquivo será aberto, de acordo com o estado escolhido pelo usuário.\n",
    "\n",
    "# Abre o arquivo desejado e cria um leitor baseado na linha de cabeçalho do arquivo\n",
    "arquivo = open(arquivo_csv, encoding='iso-8859-15')\n",
    "leitor = csv.DictReader(arquivo, delimiter=';', lineterminator='\\n') # O arquivo usa ';' para separar os valores, por isso precisamos definir o 'delimiter'\n",
    "\n",
    "# Soma as doações de todos os doadores\n",
    "for registro in leitor:\n",
    "    dinheiro = registro[\"Valor receita\"].replace(',', '.')\n",
    "    if registro[\"Nome candidato\"].upper() == candidato.upper():\n",
    "        if len(registro[\"CPF/CNPJ do doador\"]) == 11:\n",
    "            valor[registro[\"Nome do doador (Receita Federal)\"]] += float(dinheiro)\n",
    "\n",
    "# Cria uma lista com os valores doador e total doado            \n",
    "for registro[\"Nome do doador (Receita Federal)\"] in valor:\n",
    "    # Gambiarra para conseguir mostrar quando o nome não corresponde a um candidato.\n",
    "    verificacao_candidato = ['candidato existe']\n",
    "    # Lista com os doadores e total doado somente quando este for igual ou maior que o definido pelo usuário.\n",
    "    if valor[registro[\"Nome do doador (Receita Federal)\"]] >= float(dindin):\n",
    "        doadores.append([registro[\"Nome do doador (Receita Federal)\"].title(), valor[registro[\"Nome do doador (Receita Federal)\"]]])\n",
    "\n",
    "for linha in doadores:\n",
    "    empresas = []\n",
    "    pessoa = linha[0]\n",
    "    pessoa = pessoa.lower().replace(' ', '-')\n",
    "    url = f'https://www.empresascnpj.com/s/socio/{pessoa}'\n",
    "    pagina = requests.get(url)\n",
    "    \n",
    "    \n",
    "    from bs4 import BeautifulSoup\n",
    "    sopa = BeautifulSoup(pagina.content, 'html.parser')\n",
    "\n",
    "    teste_site = sopa.find('h1').text.strip()\n",
    "    lista = sopa.find_all('li')\n",
    "    \n",
    "    if teste_site == 'Uso':\n",
    "        empresas = ['fora do ar']\n",
    "    else:\n",
    "        for item in lista[:-3]:\n",
    "            empresas.append({pessoa: item.get_text()})\n",
    "\n",
    "# Mostra a resposta para o usuário\n",
    "if verificacao_candidato == ['candidato existe']:\n",
    "    if not doadores:\n",
    "        print('O(A) candidato(a) não teve doações de pessoas físicas acima do valor indicado.')\n",
    "    else: \n",
    "        if empresas == ['fora do ar']:\n",
    "            print('Infelizmente o site de onde extraímos os dados não está permitindo mais consultas. Tente novemente dentro de alguns dias ou tente usar outro computador.')\n",
    "        else:\n",
    "            for linha in doadores:\n",
    "                if empresas:\n",
    "                    break\n",
    "                else:\n",
    "                    print(f'{linha[0]}, que doou R${linha[1]:.2f} para a campanha de {candidato.title()}, é sócio(a) das seguintes empresas:')\n",
    "                    for empresa in empresas:\n",
    "                        print(f'- {empresa} \\n')\n",
    "else:\n",
    "    print('Este candidato não foi encontrado. Verifique se você digitou o nome COMPLETO e corretamente e se o estado escolhido corresponde ao estado da cidade onde ele se candidatou.')\n",
    "\n",
    "arquivo.close()"
   ]
  },
  {
   "cell_type": "code",
   "execution_count": null,
   "metadata": {
    "collapsed": true
   },
   "outputs": [],
   "source": []
  }
 ],
 "metadata": {
  "kernelspec": {
   "display_name": "Python 3",
   "language": "python",
   "name": "python3"
  },
  "language_info": {
   "codemirror_mode": {
    "name": "ipython",
    "version": 3
   },
   "file_extension": ".py",
   "mimetype": "text/x-python",
   "name": "python",
   "nbconvert_exporter": "python",
   "pygments_lexer": "ipython3",
   "version": "3.6.3"
  }
 },
 "nbformat": 4,
 "nbformat_minor": 2
}
